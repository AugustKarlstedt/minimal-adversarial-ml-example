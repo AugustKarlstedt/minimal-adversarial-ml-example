{
 "cells": [
  {
   "cell_type": "markdown",
   "metadata": {},
   "source": [
    "# Minimal adversarial attack example\n",
    "## with cleverhans and the iris dataset\n",
    "#### by August Karlstedt\n",
    "Most adversarial examples are shown in images where a normal, unmodified image is displayed as the input. An adversarial noise is crafted, and is shown being added to the original input image. The reader can then see how this noise modifies the image in a nearly unnoticeable way, while the classifier output is changed significantly.\n",
    "\n",
    "While this is good for a visual understanding, it complicates some things when thinking about the actual happenings of adversarial attacks. Therefore, I have constructed a simple example using the infamous iris dataset. One can clearly see the small changes to the input will change the predicted class. It is easy to modify parameters and see how it affects the adversarial algorithm."
   ]
  },
  {
   "cell_type": "code",
   "execution_count": 1,
   "metadata": {},
   "outputs": [],
   "source": [
    "import glob\n",
    "\n",
    "import numpy as np\n",
    "import pandas as pd\n",
    "import tensorflow as tf\n",
    "\n",
    "# Set TF random seed to improve reproducibility\n",
    "tf.set_random_seed(1234)\n",
    "np.random.seed(1234)"
   ]
  },
  {
   "cell_type": "code",
   "execution_count": 2,
   "metadata": {},
   "outputs": [
    {
     "data": {
      "text/html": [
       "<div>\n",
       "<style scoped>\n",
       "    .dataframe tbody tr th:only-of-type {\n",
       "        vertical-align: middle;\n",
       "    }\n",
       "\n",
       "    .dataframe tbody tr th {\n",
       "        vertical-align: top;\n",
       "    }\n",
       "\n",
       "    .dataframe thead th {\n",
       "        text-align: right;\n",
       "    }\n",
       "</style>\n",
       "<table border=\"1\" class=\"dataframe\">\n",
       "  <thead>\n",
       "    <tr style=\"text-align: right;\">\n",
       "      <th></th>\n",
       "      <th>count</th>\n",
       "      <th>mean</th>\n",
       "      <th>std</th>\n",
       "      <th>min</th>\n",
       "      <th>25%</th>\n",
       "      <th>50%</th>\n",
       "      <th>75%</th>\n",
       "      <th>max</th>\n",
       "    </tr>\n",
       "  </thead>\n",
       "  <tbody>\n",
       "    <tr>\n",
       "      <th>sepal length</th>\n",
       "      <td>150.0</td>\n",
       "      <td>5.843333</td>\n",
       "      <td>0.828066</td>\n",
       "      <td>4.3</td>\n",
       "      <td>5.1</td>\n",
       "      <td>5.80</td>\n",
       "      <td>6.4</td>\n",
       "      <td>7.9</td>\n",
       "    </tr>\n",
       "    <tr>\n",
       "      <th>sepal width</th>\n",
       "      <td>150.0</td>\n",
       "      <td>3.057333</td>\n",
       "      <td>0.435866</td>\n",
       "      <td>2.0</td>\n",
       "      <td>2.8</td>\n",
       "      <td>3.00</td>\n",
       "      <td>3.3</td>\n",
       "      <td>4.4</td>\n",
       "    </tr>\n",
       "    <tr>\n",
       "      <th>petal length</th>\n",
       "      <td>150.0</td>\n",
       "      <td>3.758000</td>\n",
       "      <td>1.765298</td>\n",
       "      <td>1.0</td>\n",
       "      <td>1.6</td>\n",
       "      <td>4.35</td>\n",
       "      <td>5.1</td>\n",
       "      <td>6.9</td>\n",
       "    </tr>\n",
       "    <tr>\n",
       "      <th>petal width</th>\n",
       "      <td>150.0</td>\n",
       "      <td>1.199333</td>\n",
       "      <td>0.762238</td>\n",
       "      <td>0.1</td>\n",
       "      <td>0.3</td>\n",
       "      <td>1.30</td>\n",
       "      <td>1.8</td>\n",
       "      <td>2.5</td>\n",
       "    </tr>\n",
       "  </tbody>\n",
       "</table>\n",
       "</div>"
      ],
      "text/plain": [
       "              count      mean       std  min  25%   50%  75%  max\n",
       "sepal length  150.0  5.843333  0.828066  4.3  5.1  5.80  6.4  7.9\n",
       "sepal width   150.0  3.057333  0.435866  2.0  2.8  3.00  3.3  4.4\n",
       "petal length  150.0  3.758000  1.765298  1.0  1.6  4.35  5.1  6.9\n",
       "petal width   150.0  1.199333  0.762238  0.1  0.3  1.30  1.8  2.5"
      ]
     },
     "execution_count": 2,
     "metadata": {},
     "output_type": "execute_result"
    }
   ],
   "source": [
    "file = 'data/bezdekIris.data'\n",
    "\n",
    "data = pd.read_csv(file, names=['sepal length', 'sepal width', 'petal length', 'petal width', 'class'])\n",
    "data['sepal length'] = data['sepal length'].astype(np.float32)\n",
    "data['sepal width'] = data['sepal width'].astype(np.float32)\n",
    "data['petal length'] = data['petal length'].astype(np.float32)\n",
    "data['petal width'] = data['petal width'].astype(np.float32)\n",
    "data.describe().T"
   ]
  },
  {
   "cell_type": "markdown",
   "metadata": {},
   "source": [
    "Our values match what is provided in `data/iris.names`"
   ]
  },
  {
   "cell_type": "code",
   "execution_count": 3,
   "metadata": {},
   "outputs": [
    {
     "data": {
      "text/html": [
       "<div>\n",
       "<style scoped>\n",
       "    .dataframe tbody tr th:only-of-type {\n",
       "        vertical-align: middle;\n",
       "    }\n",
       "\n",
       "    .dataframe tbody tr th {\n",
       "        vertical-align: top;\n",
       "    }\n",
       "\n",
       "    .dataframe thead th {\n",
       "        text-align: right;\n",
       "    }\n",
       "</style>\n",
       "<table border=\"1\" class=\"dataframe\">\n",
       "  <thead>\n",
       "    <tr style=\"text-align: right;\">\n",
       "      <th></th>\n",
       "      <th>sepal length</th>\n",
       "      <th>sepal width</th>\n",
       "      <th>petal length</th>\n",
       "      <th>petal width</th>\n",
       "      <th>class</th>\n",
       "    </tr>\n",
       "  </thead>\n",
       "  <tbody>\n",
       "    <tr>\n",
       "      <th>91</th>\n",
       "      <td>6.1</td>\n",
       "      <td>3.0</td>\n",
       "      <td>4.6</td>\n",
       "      <td>1.4</td>\n",
       "      <td>Iris-versicolor</td>\n",
       "    </tr>\n",
       "    <tr>\n",
       "      <th>63</th>\n",
       "      <td>6.1</td>\n",
       "      <td>2.9</td>\n",
       "      <td>4.7</td>\n",
       "      <td>1.4</td>\n",
       "      <td>Iris-versicolor</td>\n",
       "    </tr>\n",
       "    <tr>\n",
       "      <th>103</th>\n",
       "      <td>6.3</td>\n",
       "      <td>2.9</td>\n",
       "      <td>5.6</td>\n",
       "      <td>1.8</td>\n",
       "      <td>Iris-virginica</td>\n",
       "    </tr>\n",
       "    <tr>\n",
       "      <th>6</th>\n",
       "      <td>4.6</td>\n",
       "      <td>3.4</td>\n",
       "      <td>1.4</td>\n",
       "      <td>0.3</td>\n",
       "      <td>Iris-setosa</td>\n",
       "    </tr>\n",
       "    <tr>\n",
       "      <th>59</th>\n",
       "      <td>5.2</td>\n",
       "      <td>2.7</td>\n",
       "      <td>3.9</td>\n",
       "      <td>1.4</td>\n",
       "      <td>Iris-versicolor</td>\n",
       "    </tr>\n",
       "    <tr>\n",
       "      <th>29</th>\n",
       "      <td>4.7</td>\n",
       "      <td>3.2</td>\n",
       "      <td>1.6</td>\n",
       "      <td>0.2</td>\n",
       "      <td>Iris-setosa</td>\n",
       "    </tr>\n",
       "    <tr>\n",
       "      <th>27</th>\n",
       "      <td>5.2</td>\n",
       "      <td>3.5</td>\n",
       "      <td>1.5</td>\n",
       "      <td>0.2</td>\n",
       "      <td>Iris-setosa</td>\n",
       "    </tr>\n",
       "    <tr>\n",
       "      <th>35</th>\n",
       "      <td>5.0</td>\n",
       "      <td>3.2</td>\n",
       "      <td>1.2</td>\n",
       "      <td>0.2</td>\n",
       "      <td>Iris-setosa</td>\n",
       "    </tr>\n",
       "    <tr>\n",
       "      <th>99</th>\n",
       "      <td>5.7</td>\n",
       "      <td>2.8</td>\n",
       "      <td>4.1</td>\n",
       "      <td>1.3</td>\n",
       "      <td>Iris-versicolor</td>\n",
       "    </tr>\n",
       "    <tr>\n",
       "      <th>122</th>\n",
       "      <td>7.7</td>\n",
       "      <td>2.8</td>\n",
       "      <td>6.7</td>\n",
       "      <td>2.0</td>\n",
       "      <td>Iris-virginica</td>\n",
       "    </tr>\n",
       "  </tbody>\n",
       "</table>\n",
       "</div>"
      ],
      "text/plain": [
       "     sepal length  sepal width  petal length  petal width            class\n",
       "91            6.1          3.0           4.6          1.4  Iris-versicolor\n",
       "63            6.1          2.9           4.7          1.4  Iris-versicolor\n",
       "103           6.3          2.9           5.6          1.8   Iris-virginica\n",
       "6             4.6          3.4           1.4          0.3      Iris-setosa\n",
       "59            5.2          2.7           3.9          1.4  Iris-versicolor\n",
       "29            4.7          3.2           1.6          0.2      Iris-setosa\n",
       "27            5.2          3.5           1.5          0.2      Iris-setosa\n",
       "35            5.0          3.2           1.2          0.2      Iris-setosa\n",
       "99            5.7          2.8           4.1          1.3  Iris-versicolor\n",
       "122           7.7          2.8           6.7          2.0   Iris-virginica"
      ]
     },
     "execution_count": 3,
     "metadata": {},
     "output_type": "execute_result"
    }
   ],
   "source": [
    "data.sample(10)"
   ]
  },
  {
   "cell_type": "code",
   "execution_count": 4,
   "metadata": {},
   "outputs": [],
   "source": [
    "x_train = data[['sepal length', 'sepal width', 'petal length', 'petal width']]\n",
    "x_train = x_train.values"
   ]
  },
  {
   "cell_type": "code",
   "execution_count": 5,
   "metadata": {},
   "outputs": [
    {
     "data": {
      "text/plain": [
       "['Iris-setosa', 'Iris-versicolor', 'Iris-virginica']"
      ]
     },
     "execution_count": 5,
     "metadata": {},
     "output_type": "execute_result"
    }
   ],
   "source": [
    "unique_classes = data['class'].unique().tolist()\n",
    "unique_classes"
   ]
  },
  {
   "cell_type": "code",
   "execution_count": 6,
   "metadata": {},
   "outputs": [
    {
     "data": {
      "text/plain": [
       "3"
      ]
     },
     "execution_count": 6,
     "metadata": {},
     "output_type": "execute_result"
    }
   ],
   "source": [
    "class_count = len(unique_classes)\n",
    "class_count"
   ]
  },
  {
   "cell_type": "code",
   "execution_count": 7,
   "metadata": {},
   "outputs": [
    {
     "data": {
      "text/plain": [
       "{'Iris-setosa': 0, 'Iris-versicolor': 1, 'Iris-virginica': 2}"
      ]
     },
     "execution_count": 7,
     "metadata": {},
     "output_type": "execute_result"
    }
   ],
   "source": [
    "class_to_int = {}\n",
    "for i, item in enumerate(unique_classes):\n",
    "    class_to_int[item] = i\n",
    "class_to_int"
   ]
  },
  {
   "cell_type": "code",
   "execution_count": 8,
   "metadata": {},
   "outputs": [
    {
     "data": {
      "text/plain": [
       "'Iris-versicolor'"
      ]
     },
     "execution_count": 8,
     "metadata": {},
     "output_type": "execute_result"
    }
   ],
   "source": [
    "def int_to_class(i):\n",
    "    return unique_classes[i]\n",
    "int_to_class(1)"
   ]
  },
  {
   "cell_type": "code",
   "execution_count": 9,
   "metadata": {},
   "outputs": [],
   "source": [
    "y_index = []\n",
    "y_onehot = []\n",
    "\n",
    "for item in data[['class']].values:\n",
    "    item = item[0]\n",
    "    \n",
    "    vec = np.zeros(class_count)\n",
    "    index = class_to_int[item]\n",
    "    vec[index] = 1\n",
    "    \n",
    "    y_index.append(index)\n",
    "    y_onehot.append(vec)\n",
    "\n",
    "data['index'] = y_index\n",
    "data['onehot'] = y_onehot"
   ]
  },
  {
   "cell_type": "code",
   "execution_count": 10,
   "metadata": {},
   "outputs": [
    {
     "data": {
      "text/html": [
       "<div>\n",
       "<style scoped>\n",
       "    .dataframe tbody tr th:only-of-type {\n",
       "        vertical-align: middle;\n",
       "    }\n",
       "\n",
       "    .dataframe tbody tr th {\n",
       "        vertical-align: top;\n",
       "    }\n",
       "\n",
       "    .dataframe thead th {\n",
       "        text-align: right;\n",
       "    }\n",
       "</style>\n",
       "<table border=\"1\" class=\"dataframe\">\n",
       "  <thead>\n",
       "    <tr style=\"text-align: right;\">\n",
       "      <th></th>\n",
       "      <th>sepal length</th>\n",
       "      <th>sepal width</th>\n",
       "      <th>petal length</th>\n",
       "      <th>petal width</th>\n",
       "      <th>class</th>\n",
       "      <th>index</th>\n",
       "      <th>onehot</th>\n",
       "    </tr>\n",
       "  </thead>\n",
       "  <tbody>\n",
       "    <tr>\n",
       "      <th>76</th>\n",
       "      <td>6.8</td>\n",
       "      <td>2.8</td>\n",
       "      <td>4.8</td>\n",
       "      <td>1.4</td>\n",
       "      <td>Iris-versicolor</td>\n",
       "      <td>1</td>\n",
       "      <td>[0.0, 1.0, 0.0]</td>\n",
       "    </tr>\n",
       "    <tr>\n",
       "      <th>105</th>\n",
       "      <td>7.6</td>\n",
       "      <td>3.0</td>\n",
       "      <td>6.6</td>\n",
       "      <td>2.1</td>\n",
       "      <td>Iris-virginica</td>\n",
       "      <td>2</td>\n",
       "      <td>[0.0, 0.0, 1.0]</td>\n",
       "    </tr>\n",
       "    <tr>\n",
       "      <th>73</th>\n",
       "      <td>6.1</td>\n",
       "      <td>2.8</td>\n",
       "      <td>4.7</td>\n",
       "      <td>1.2</td>\n",
       "      <td>Iris-versicolor</td>\n",
       "      <td>1</td>\n",
       "      <td>[0.0, 1.0, 0.0]</td>\n",
       "    </tr>\n",
       "    <tr>\n",
       "      <th>117</th>\n",
       "      <td>7.7</td>\n",
       "      <td>3.8</td>\n",
       "      <td>6.7</td>\n",
       "      <td>2.2</td>\n",
       "      <td>Iris-virginica</td>\n",
       "      <td>2</td>\n",
       "      <td>[0.0, 0.0, 1.0]</td>\n",
       "    </tr>\n",
       "    <tr>\n",
       "      <th>115</th>\n",
       "      <td>6.4</td>\n",
       "      <td>3.2</td>\n",
       "      <td>5.3</td>\n",
       "      <td>2.3</td>\n",
       "      <td>Iris-virginica</td>\n",
       "      <td>2</td>\n",
       "      <td>[0.0, 0.0, 1.0]</td>\n",
       "    </tr>\n",
       "    <tr>\n",
       "      <th>128</th>\n",
       "      <td>6.4</td>\n",
       "      <td>2.8</td>\n",
       "      <td>5.6</td>\n",
       "      <td>2.1</td>\n",
       "      <td>Iris-virginica</td>\n",
       "      <td>2</td>\n",
       "      <td>[0.0, 0.0, 1.0]</td>\n",
       "    </tr>\n",
       "    <tr>\n",
       "      <th>15</th>\n",
       "      <td>5.7</td>\n",
       "      <td>4.4</td>\n",
       "      <td>1.5</td>\n",
       "      <td>0.4</td>\n",
       "      <td>Iris-setosa</td>\n",
       "      <td>0</td>\n",
       "      <td>[1.0, 0.0, 0.0]</td>\n",
       "    </tr>\n",
       "    <tr>\n",
       "      <th>18</th>\n",
       "      <td>5.7</td>\n",
       "      <td>3.8</td>\n",
       "      <td>1.7</td>\n",
       "      <td>0.3</td>\n",
       "      <td>Iris-setosa</td>\n",
       "      <td>0</td>\n",
       "      <td>[1.0, 0.0, 0.0]</td>\n",
       "    </tr>\n",
       "    <tr>\n",
       "      <th>55</th>\n",
       "      <td>5.7</td>\n",
       "      <td>2.8</td>\n",
       "      <td>4.5</td>\n",
       "      <td>1.3</td>\n",
       "      <td>Iris-versicolor</td>\n",
       "      <td>1</td>\n",
       "      <td>[0.0, 1.0, 0.0]</td>\n",
       "    </tr>\n",
       "    <tr>\n",
       "      <th>77</th>\n",
       "      <td>6.7</td>\n",
       "      <td>3.0</td>\n",
       "      <td>5.0</td>\n",
       "      <td>1.7</td>\n",
       "      <td>Iris-versicolor</td>\n",
       "      <td>1</td>\n",
       "      <td>[0.0, 1.0, 0.0]</td>\n",
       "    </tr>\n",
       "  </tbody>\n",
       "</table>\n",
       "</div>"
      ],
      "text/plain": [
       "     sepal length  sepal width  petal length  petal width            class  \\\n",
       "76            6.8          2.8           4.8          1.4  Iris-versicolor   \n",
       "105           7.6          3.0           6.6          2.1   Iris-virginica   \n",
       "73            6.1          2.8           4.7          1.2  Iris-versicolor   \n",
       "117           7.7          3.8           6.7          2.2   Iris-virginica   \n",
       "115           6.4          3.2           5.3          2.3   Iris-virginica   \n",
       "128           6.4          2.8           5.6          2.1   Iris-virginica   \n",
       "15            5.7          4.4           1.5          0.4      Iris-setosa   \n",
       "18            5.7          3.8           1.7          0.3      Iris-setosa   \n",
       "55            5.7          2.8           4.5          1.3  Iris-versicolor   \n",
       "77            6.7          3.0           5.0          1.7  Iris-versicolor   \n",
       "\n",
       "     index           onehot  \n",
       "76       1  [0.0, 1.0, 0.0]  \n",
       "105      2  [0.0, 0.0, 1.0]  \n",
       "73       1  [0.0, 1.0, 0.0]  \n",
       "117      2  [0.0, 0.0, 1.0]  \n",
       "115      2  [0.0, 0.0, 1.0]  \n",
       "128      2  [0.0, 0.0, 1.0]  \n",
       "15       0  [1.0, 0.0, 0.0]  \n",
       "18       0  [1.0, 0.0, 0.0]  \n",
       "55       1  [0.0, 1.0, 0.0]  \n",
       "77       1  [0.0, 1.0, 0.0]  "
      ]
     },
     "execution_count": 10,
     "metadata": {},
     "output_type": "execute_result"
    }
   ],
   "source": [
    "data.sample(10)"
   ]
  },
  {
   "cell_type": "code",
   "execution_count": 11,
   "metadata": {},
   "outputs": [],
   "source": [
    "y_train = np.array(y_onehot)"
   ]
  },
  {
   "cell_type": "code",
   "execution_count": null,
   "metadata": {},
   "outputs": [],
   "source": []
  },
  {
   "cell_type": "code",
   "execution_count": 12,
   "metadata": {},
   "outputs": [
    {
     "name": "stderr",
     "output_type": "stream",
     "text": [
      "WARNING: Logging before flag parsing goes to stderr.\n",
      "W1020 22:15:00.960482 20892 deprecation_wrapper.py:119] From c:\\users\\august\\appdata\\local\\programs\\python\\python36\\lib\\site-packages\\cleverhans\\utils_tf.py:341: The name tf.GraphKeys is deprecated. Please use tf.compat.v1.GraphKeys instead.\n",
      "\n"
     ]
    }
   ],
   "source": [
    "from cleverhans.attacks import FastGradientMethod\n",
    "from cleverhans.augmentation import random_horizontal_flip, random_shift\n",
    "from tensorflow.compat.v1 import flags\n",
    "from cleverhans.dataset import CIFAR10\n",
    "from cleverhans.loss import CrossEntropy\n",
    "from cleverhans import initializers\n",
    "from cleverhans.model import Model\n",
    "from cleverhans.train import train\n",
    "from cleverhans.utils import AccuracyReport, set_log_level\n",
    "from cleverhans.utils_tf import model_eval"
   ]
  },
  {
   "cell_type": "code",
   "execution_count": 13,
   "metadata": {},
   "outputs": [],
   "source": [
    "NB_EPOCHS = 128\n",
    "BATCH_SIZE = 16\n",
    "LEARNING_RATE = 0.001\n",
    "CLEAN_TRAIN = True\n",
    "BACKPROP_THROUGH_ATTACK = False"
   ]
  },
  {
   "cell_type": "code",
   "execution_count": null,
   "metadata": {},
   "outputs": [],
   "source": []
  },
  {
   "cell_type": "code",
   "execution_count": 14,
   "metadata": {},
   "outputs": [],
   "source": [
    "report = AccuracyReport()"
   ]
  },
  {
   "cell_type": "code",
   "execution_count": null,
   "metadata": {},
   "outputs": [],
   "source": []
  },
  {
   "cell_type": "code",
   "execution_count": 15,
   "metadata": {},
   "outputs": [],
   "source": [
    "class BasicModel(Model):\n",
    "    def __init__(self, scope, nb_classes, **kwargs):\n",
    "        del kwargs\n",
    "        Model.__init__(self, scope, nb_classes, locals())\n",
    "\n",
    "        # Do a dummy run of fprop to create the variables from the start\n",
    "        self.fprop(tf.placeholder(tf.float32, (1, 4)))\n",
    "        # Put a reference to the params in self so that the params get pickled\n",
    "        self.params = self.get_params()\n",
    "\n",
    "    def fprop(self, x, **kwargs):\n",
    "        del kwargs\n",
    "\n",
    "        y = x\n",
    "\n",
    "        with tf.variable_scope(self.scope, reuse=tf.AUTO_REUSE):\n",
    "            y = tf.layers.Dense(4)(y) \n",
    "            y = tf.layers.Dense(32, activation='relu')(y)\n",
    "            logits = tf.layers.Dense(self.nb_classes)(y)\n",
    "    \n",
    "        return {self.O_LOGITS: logits, self.O_PROBS: tf.nn.softmax(logits=logits)}"
   ]
  },
  {
   "cell_type": "code",
   "execution_count": 16,
   "metadata": {},
   "outputs": [
    {
     "name": "stderr",
     "output_type": "stream",
     "text": [
      "W1020 22:15:00.999475 20892 deprecation.py:506] From c:\\users\\august\\appdata\\local\\programs\\python\\python36\\lib\\site-packages\\tensorflow\\python\\ops\\init_ops.py:1251: calling VarianceScaling.__init__ (from tensorflow.python.ops.init_ops) with dtype is deprecated and will be removed in a future version.\n",
      "Instructions for updating:\n",
      "Call initializer instance with the dtype argument instead of passing it to the constructor\n",
      "W1020 22:15:01.227511 20892 deprecation_wrapper.py:119] From c:\\users\\august\\appdata\\local\\programs\\python\\python36\\lib\\site-packages\\cleverhans\\model.py:129: The name tf.get_collection is deprecated. Please use tf.compat.v1.get_collection instead.\n",
      "\n"
     ]
    }
   ],
   "source": [
    "model = BasicModel('example-model', class_count)"
   ]
  },
  {
   "cell_type": "code",
   "execution_count": null,
   "metadata": {},
   "outputs": [],
   "source": []
  },
  {
   "cell_type": "code",
   "execution_count": 17,
   "metadata": {},
   "outputs": [],
   "source": [
    "sess = tf.Session()"
   ]
  },
  {
   "cell_type": "code",
   "execution_count": 18,
   "metadata": {},
   "outputs": [],
   "source": [
    "x = tf.placeholder(tf.float32, shape=(None, 4))\n",
    "y = tf.placeholder(tf.float32, shape=(None, class_count))\n",
    "\n",
    "# Train an MNIST model\n",
    "train_params = {\n",
    "  'nb_epochs': NB_EPOCHS,\n",
    "  'batch_size': BATCH_SIZE,\n",
    "  'learning_rate': LEARNING_RATE\n",
    "}\n",
    "eval_params = {'batch_size': BATCH_SIZE}\n",
    "fgsm_params = {\n",
    "  'eps': 0.99,\n",
    "  'clip_min': 0.,\n",
    "  'clip_max': 10.\n",
    "}\n",
    "rng = np.random.RandomState([2019, 10, 20])"
   ]
  },
  {
   "cell_type": "code",
   "execution_count": 19,
   "metadata": {},
   "outputs": [],
   "source": [
    "label_smoothing = 0.0"
   ]
  },
  {
   "cell_type": "code",
   "execution_count": 20,
   "metadata": {},
   "outputs": [],
   "source": [
    "preds = model.get_logits(x)\n",
    "loss = CrossEntropy(model, smoothing=label_smoothing)"
   ]
  },
  {
   "cell_type": "code",
   "execution_count": 21,
   "metadata": {},
   "outputs": [],
   "source": [
    "x_test = x_train\n",
    "y_test = y_train\n",
    "\n",
    "def do_eval(preds, x_set, y_set, report_key, is_adv=None):\n",
    "    acc = model_eval(sess, x, y, preds, x_set, y_set, args=eval_params)\n",
    "    setattr(report, report_key, acc)\n",
    "    if is_adv is None:\n",
    "      report_text = None\n",
    "    elif is_adv:\n",
    "      report_text = 'adversarial'\n",
    "    else:\n",
    "      report_text = 'legitimate'\n",
    "    if report_text:\n",
    "      print('Test accuracy on %s examples: %0.4f' % (report_text, acc))\n",
    "    \n",
    "def evaluate():\n",
    "    do_eval(preds, x_test, y_test, 'clean_train_clean_eval', False)"
   ]
  },
  {
   "cell_type": "code",
   "execution_count": 22,
   "metadata": {},
   "outputs": [
    {
     "name": "stderr",
     "output_type": "stream",
     "text": [
      "c:\\users\\august\\appdata\\local\\programs\\python\\python36\\lib\\site-packages\\cleverhans\\utils_tf.py:511: UserWarning: No GPUS, running on CPU\n",
      "  warnings.warn(\"No GPUS, running on CPU\")\n",
      "W1020 22:15:01.315477 20892 deprecation_wrapper.py:119] From c:\\users\\august\\appdata\\local\\programs\\python\\python36\\lib\\site-packages\\cleverhans\\train.py:117: The name tf.train.AdamOptimizer is deprecated. Please use tf.compat.v1.train.AdamOptimizer instead.\n",
      "\n",
      "W1020 22:15:01.315477 20892 deprecation_wrapper.py:119] From c:\\users\\august\\appdata\\local\\programs\\python\\python36\\lib\\site-packages\\cleverhans\\train.py:137: The name tf.placeholder is deprecated. Please use tf.compat.v1.placeholder instead.\n",
      "\n",
      "W1020 22:15:01.333476 20892 deprecation.py:506] From c:\\users\\august\\appdata\\local\\programs\\python\\python36\\lib\\site-packages\\cleverhans\\compat.py:124: calling softmax_cross_entropy_with_logits_v2_helper (from tensorflow.python.ops.nn_ops) with dim is deprecated and will be removed in a future version.\n",
      "Instructions for updating:\n",
      "dim is deprecated, use axis instead\n",
      "W1020 22:15:01.440509 20892 deprecation_wrapper.py:119] From c:\\users\\august\\appdata\\local\\programs\\python\\python36\\lib\\site-packages\\cleverhans\\utils_tf.py:60: The name tf.global_variables is deprecated. Please use tf.compat.v1.global_variables instead.\n",
      "\n",
      "W1020 22:15:01.441510 20892 deprecation_wrapper.py:119] From c:\\users\\august\\appdata\\local\\programs\\python\\python36\\lib\\site-packages\\cleverhans\\utils_tf.py:63: The name tf.is_variable_initialized is deprecated. Please use tf.compat.v1.is_variable_initialized instead.\n",
      "\n",
      "[INFO 2019-10-20 22:15:01,544 cleverhans] Epoch 0 took 0.048956871032714844 seconds\n",
      "I1020 22:15:01.544475 20892 train.py:257] Epoch 0 took 0.048956871032714844 seconds\n",
      "[INFO 2019-10-20 22:15:01,573 cleverhans] Epoch 1 took 0.004984140396118164 seconds\n",
      "I1020 22:15:01.573488 20892 train.py:257] Epoch 1 took 0.004984140396118164 seconds\n",
      "[INFO 2019-10-20 22:15:01,583 cleverhans] Epoch 2 took 0.005001544952392578 seconds\n"
     ]
    },
    {
     "name": "stdout",
     "output_type": "stream",
     "text": [
      "num_devices:  1\n",
      "Test accuracy on legitimate examples: 0.3333\n",
      "Test accuracy on legitimate examples: 0.2800\n"
     ]
    },
    {
     "name": "stderr",
     "output_type": "stream",
     "text": [
      "I1020 22:15:01.583477 20892 train.py:257] Epoch 2 took 0.005001544952392578 seconds\n",
      "[INFO 2019-10-20 22:15:01,593 cleverhans] Epoch 3 took 0.004997968673706055 seconds\n",
      "I1020 22:15:01.593477 20892 train.py:257] Epoch 3 took 0.004997968673706055 seconds\n",
      "[INFO 2019-10-20 22:15:01,604 cleverhans] Epoch 4 took 0.005999565124511719 seconds\n",
      "I1020 22:15:01.604475 20892 train.py:257] Epoch 4 took 0.005999565124511719 seconds\n",
      "[INFO 2019-10-20 22:15:01,615 cleverhans] Epoch 5 took 0.005998849868774414 seconds\n",
      "I1020 22:15:01.615475 20892 train.py:257] Epoch 5 took 0.005998849868774414 seconds\n",
      "[INFO 2019-10-20 22:15:01,626 cleverhans] Epoch 6 took 0.00601649284362793 seconds\n",
      "I1020 22:15:01.626494 20892 train.py:257] Epoch 6 took 0.00601649284362793 seconds\n",
      "[INFO 2019-10-20 22:15:01,637 cleverhans] Epoch 7 took 0.006004810333251953 seconds\n",
      "I1020 22:15:01.637480 20892 train.py:257] Epoch 7 took 0.006004810333251953 seconds\n",
      "[INFO 2019-10-20 22:15:01,649 cleverhans] Epoch 8 took 0.005994081497192383 seconds\n",
      "I1020 22:15:01.649475 20892 train.py:257] Epoch 8 took 0.005994081497192383 seconds\n",
      "[INFO 2019-10-20 22:15:01,661 cleverhans] Epoch 9 took 0.00500035285949707 seconds\n",
      "I1020 22:15:01.661476 20892 train.py:257] Epoch 9 took 0.00500035285949707 seconds\n",
      "[INFO 2019-10-20 22:15:01,671 cleverhans] Epoch 10 took 0.006001949310302734 seconds\n",
      "I1020 22:15:01.671477 20892 train.py:257] Epoch 10 took 0.006001949310302734 seconds\n",
      "[INFO 2019-10-20 22:15:01,682 cleverhans] Epoch 11 took 0.005995035171508789 seconds\n",
      "I1020 22:15:01.682476 20892 train.py:257] Epoch 11 took 0.005995035171508789 seconds\n",
      "[INFO 2019-10-20 22:15:01,692 cleverhans] Epoch 12 took 0.004999399185180664 seconds\n",
      "I1020 22:15:01.692475 20892 train.py:257] Epoch 12 took 0.004999399185180664 seconds\n",
      "[INFO 2019-10-20 22:15:01,703 cleverhans] Epoch 13 took 0.00600123405456543 seconds\n",
      "I1020 22:15:01.703476 20892 train.py:257] Epoch 13 took 0.00600123405456543 seconds\n",
      "[INFO 2019-10-20 22:15:01,715 cleverhans] Epoch 14 took 0.005994319915771484 seconds\n",
      "I1020 22:15:01.715476 20892 train.py:257] Epoch 14 took 0.005994319915771484 seconds\n",
      "[INFO 2019-10-20 22:15:01,725 cleverhans] Epoch 15 took 0.004001140594482422 seconds\n",
      "I1020 22:15:01.725475 20892 train.py:257] Epoch 15 took 0.004001140594482422 seconds\n",
      "[INFO 2019-10-20 22:15:01,737 cleverhans] Epoch 16 took 0.006000518798828125 seconds\n",
      "I1020 22:15:01.737477 20892 train.py:257] Epoch 16 took 0.006000518798828125 seconds\n",
      "[INFO 2019-10-20 22:15:01,748 cleverhans] Epoch 17 took 0.00499272346496582 seconds\n",
      "I1020 22:15:01.748475 20892 train.py:257] Epoch 17 took 0.00499272346496582 seconds\n",
      "[INFO 2019-10-20 22:15:01,757 cleverhans] Epoch 18 took 0.004032611846923828 seconds\n",
      "I1020 22:15:01.757510 20892 train.py:257] Epoch 18 took 0.004032611846923828 seconds\n",
      "[INFO 2019-10-20 22:15:01,770 cleverhans] Epoch 19 took 0.006000041961669922 seconds\n"
     ]
    },
    {
     "name": "stdout",
     "output_type": "stream",
     "text": [
      "Test accuracy on legitimate examples: 0.3333\n",
      "Test accuracy on legitimate examples: 0.3333\n",
      "Test accuracy on legitimate examples: 0.3333\n",
      "Test accuracy on legitimate examples: 0.3333\n",
      "Test accuracy on legitimate examples: 0.3467\n",
      "Test accuracy on legitimate examples: 0.6667\n",
      "Test accuracy on legitimate examples: 0.6667\n",
      "Test accuracy on legitimate examples: 0.6667\n",
      "Test accuracy on legitimate examples: 0.6667\n",
      "Test accuracy on legitimate examples: 0.6667\n",
      "Test accuracy on legitimate examples: 0.7133\n",
      "Test accuracy on legitimate examples: 0.7133\n",
      "Test accuracy on legitimate examples: 0.8133\n",
      "Test accuracy on legitimate examples: 0.7200\n",
      "Test accuracy on legitimate examples: 0.8333\n",
      "Test accuracy on legitimate examples: 0.7200\n",
      "Test accuracy on legitimate examples: 0.9133\n"
     ]
    },
    {
     "name": "stderr",
     "output_type": "stream",
     "text": [
      "I1020 22:15:01.770477 20892 train.py:257] Epoch 19 took 0.006000041961669922 seconds\n",
      "[INFO 2019-10-20 22:15:01,781 cleverhans] Epoch 20 took 0.005017995834350586 seconds\n",
      "I1020 22:15:01.781500 20892 train.py:257] Epoch 20 took 0.005017995834350586 seconds\n",
      "[INFO 2019-10-20 22:15:01,791 cleverhans] Epoch 21 took 0.0049970149993896484 seconds\n",
      "I1020 22:15:01.791474 20892 train.py:257] Epoch 21 took 0.0049970149993896484 seconds\n",
      "[INFO 2019-10-20 22:15:01,803 cleverhans] Epoch 22 took 0.005002498626708984 seconds\n",
      "I1020 22:15:01.803478 20892 train.py:257] Epoch 22 took 0.005002498626708984 seconds\n",
      "[INFO 2019-10-20 22:15:01,815 cleverhans] Epoch 23 took 0.005991697311401367 seconds\n",
      "I1020 22:15:01.815475 20892 train.py:257] Epoch 23 took 0.005991697311401367 seconds\n",
      "[INFO 2019-10-20 22:15:01,827 cleverhans] Epoch 24 took 0.0049746036529541016 seconds\n",
      "I1020 22:15:01.827477 20892 train.py:257] Epoch 24 took 0.0049746036529541016 seconds\n",
      "[INFO 2019-10-20 22:15:01,837 cleverhans] Epoch 25 took 0.0049991607666015625 seconds\n",
      "I1020 22:15:01.837476 20892 train.py:257] Epoch 25 took 0.0049991607666015625 seconds\n",
      "[INFO 2019-10-20 22:15:01,848 cleverhans] Epoch 26 took 0.00499725341796875 seconds\n",
      "I1020 22:15:01.848475 20892 train.py:257] Epoch 26 took 0.00499725341796875 seconds\n",
      "[INFO 2019-10-20 22:15:01,858 cleverhans] Epoch 27 took 0.003970623016357422 seconds\n",
      "I1020 22:15:01.858475 20892 train.py:257] Epoch 27 took 0.003970623016357422 seconds\n",
      "[INFO 2019-10-20 22:15:01,869 cleverhans] Epoch 28 took 0.005002021789550781 seconds\n",
      "I1020 22:15:01.869477 20892 train.py:257] Epoch 28 took 0.005002021789550781 seconds\n",
      "[INFO 2019-10-20 22:15:01,881 cleverhans] Epoch 29 took 0.006015300750732422 seconds\n",
      "I1020 22:15:01.881491 20892 train.py:257] Epoch 29 took 0.006015300750732422 seconds\n",
      "[INFO 2019-10-20 22:15:01,893 cleverhans] Epoch 30 took 0.005999565124511719 seconds\n",
      "I1020 22:15:01.893477 20892 train.py:257] Epoch 30 took 0.005999565124511719 seconds\n",
      "[INFO 2019-10-20 22:15:01,905 cleverhans] Epoch 31 took 0.005999326705932617 seconds\n",
      "I1020 22:15:01.905476 20892 train.py:257] Epoch 31 took 0.005999326705932617 seconds\n",
      "[INFO 2019-10-20 22:15:01,916 cleverhans] Epoch 32 took 0.00500035285949707 seconds\n",
      "I1020 22:15:01.916476 20892 train.py:257] Epoch 32 took 0.00500035285949707 seconds\n",
      "[INFO 2019-10-20 22:15:01,927 cleverhans] Epoch 33 took 0.0050013065338134766 seconds\n",
      "I1020 22:15:01.927478 20892 train.py:257] Epoch 33 took 0.0050013065338134766 seconds\n",
      "[INFO 2019-10-20 22:15:01,938 cleverhans] Epoch 34 took 0.0060007572174072266 seconds\n",
      "I1020 22:15:01.938477 20892 train.py:257] Epoch 34 took 0.0060007572174072266 seconds\n",
      "[INFO 2019-10-20 22:15:01,949 cleverhans] Epoch 35 took 0.0060291290283203125 seconds\n",
      "I1020 22:15:01.949509 20892 train.py:257] Epoch 35 took 0.0060291290283203125 seconds\n"
     ]
    },
    {
     "name": "stdout",
     "output_type": "stream",
     "text": [
      "Test accuracy on legitimate examples: 0.8667\n",
      "Test accuracy on legitimate examples: 0.7533\n",
      "Test accuracy on legitimate examples: 0.8667\n",
      "Test accuracy on legitimate examples: 0.9267\n",
      "Test accuracy on legitimate examples: 0.8533\n",
      "Test accuracy on legitimate examples: 0.8667\n",
      "Test accuracy on legitimate examples: 0.9533\n",
      "Test accuracy on legitimate examples: 0.8867\n",
      "Test accuracy on legitimate examples: 0.8667\n",
      "Test accuracy on legitimate examples: 0.9067\n",
      "Test accuracy on legitimate examples: 0.9533\n",
      "Test accuracy on legitimate examples: 0.9000\n",
      "Test accuracy on legitimate examples: 0.9533\n",
      "Test accuracy on legitimate examples: 0.9800\n",
      "Test accuracy on legitimate examples: 0.9800\n",
      "Test accuracy on legitimate examples: 0.9600\n",
      "Test accuracy on legitimate examples: 0.9800\n"
     ]
    },
    {
     "name": "stderr",
     "output_type": "stream",
     "text": [
      "[INFO 2019-10-20 22:15:01,961 cleverhans] Epoch 36 took 0.005999088287353516 seconds\n",
      "I1020 22:15:01.961476 20892 train.py:257] Epoch 36 took 0.005999088287353516 seconds\n",
      "[INFO 2019-10-20 22:15:01,972 cleverhans] Epoch 37 took 0.006029367446899414 seconds\n",
      "I1020 22:15:01.972504 20892 train.py:257] Epoch 37 took 0.006029367446899414 seconds\n",
      "[INFO 2019-10-20 22:15:01,983 cleverhans] Epoch 38 took 0.0050258636474609375 seconds\n",
      "I1020 22:15:01.983503 20892 train.py:257] Epoch 38 took 0.0050258636474609375 seconds\n",
      "[INFO 2019-10-20 22:15:01,995 cleverhans] Epoch 39 took 0.00500035285949707 seconds\n",
      "I1020 22:15:01.995476 20892 train.py:257] Epoch 39 took 0.00500035285949707 seconds\n",
      "[INFO 2019-10-20 22:15:02,006 cleverhans] Epoch 40 took 0.006000518798828125 seconds\n",
      "I1020 22:15:02.006476 20892 train.py:257] Epoch 40 took 0.006000518798828125 seconds\n",
      "[INFO 2019-10-20 22:15:02,018 cleverhans] Epoch 41 took 0.007006406784057617 seconds\n",
      "I1020 22:15:02.018484 20892 train.py:257] Epoch 41 took 0.007006406784057617 seconds\n",
      "[INFO 2019-10-20 22:15:02,029 cleverhans] Epoch 42 took 0.004969120025634766 seconds\n",
      "I1020 22:15:02.029475 20892 train.py:257] Epoch 42 took 0.004969120025634766 seconds\n",
      "[INFO 2019-10-20 22:15:02,039 cleverhans] Epoch 43 took 0.004998683929443359 seconds\n",
      "I1020 22:15:02.039476 20892 train.py:257] Epoch 43 took 0.004998683929443359 seconds\n",
      "[INFO 2019-10-20 22:15:02,051 cleverhans] Epoch 44 took 0.006006002426147461 seconds\n",
      "I1020 22:15:02.051483 20892 train.py:257] Epoch 44 took 0.006006002426147461 seconds\n",
      "[INFO 2019-10-20 22:15:02,064 cleverhans] Epoch 45 took 0.00599980354309082 seconds\n",
      "I1020 22:15:02.064477 20892 train.py:257] Epoch 45 took 0.00599980354309082 seconds\n",
      "[INFO 2019-10-20 22:15:02,076 cleverhans] Epoch 46 took 0.006006479263305664 seconds\n",
      "I1020 22:15:02.076481 20892 train.py:257] Epoch 46 took 0.006006479263305664 seconds\n",
      "[INFO 2019-10-20 22:15:02,088 cleverhans] Epoch 47 took 0.006008625030517578 seconds\n",
      "I1020 22:15:02.088485 20892 train.py:257] Epoch 47 took 0.006008625030517578 seconds\n",
      "[INFO 2019-10-20 22:15:02,099 cleverhans] Epoch 48 took 0.004998207092285156 seconds\n",
      "I1020 22:15:02.099475 20892 train.py:257] Epoch 48 took 0.004998207092285156 seconds\n",
      "[INFO 2019-10-20 22:15:02,111 cleverhans] Epoch 49 took 0.004999876022338867 seconds\n",
      "I1020 22:15:02.111476 20892 train.py:257] Epoch 49 took 0.004999876022338867 seconds\n",
      "[INFO 2019-10-20 22:15:02,122 cleverhans] Epoch 50 took 0.005996227264404297 seconds\n",
      "I1020 22:15:02.122475 20892 train.py:257] Epoch 50 took 0.005996227264404297 seconds\n",
      "[INFO 2019-10-20 22:15:02,133 cleverhans] Epoch 51 took 0.006025791168212891 seconds\n",
      "I1020 22:15:02.133502 20892 train.py:257] Epoch 51 took 0.006025791168212891 seconds\n",
      "[INFO 2019-10-20 22:15:02,144 cleverhans] Epoch 52 took 0.005000114440917969 seconds\n"
     ]
    },
    {
     "name": "stdout",
     "output_type": "stream",
     "text": [
      "Test accuracy on legitimate examples: 0.9667\n",
      "Test accuracy on legitimate examples: 0.9600\n",
      "Test accuracy on legitimate examples: 0.9800\n",
      "Test accuracy on legitimate examples: 0.9800\n",
      "Test accuracy on legitimate examples: 0.9800\n",
      "Test accuracy on legitimate examples: 0.9800\n",
      "Test accuracy on legitimate examples: 0.9667\n",
      "Test accuracy on legitimate examples: 0.9800\n",
      "Test accuracy on legitimate examples: 0.9800\n",
      "Test accuracy on legitimate examples: 0.9800\n",
      "Test accuracy on legitimate examples: 0.9800\n",
      "Test accuracy on legitimate examples: 0.9800\n",
      "Test accuracy on legitimate examples: 0.9800\n",
      "Test accuracy on legitimate examples: 0.9800\n",
      "Test accuracy on legitimate examples: 0.9800\n",
      "Test accuracy on legitimate examples: 0.9800\n"
     ]
    },
    {
     "name": "stderr",
     "output_type": "stream",
     "text": [
      "I1020 22:15:02.144476 20892 train.py:257] Epoch 52 took 0.005000114440917969 seconds\n",
      "[INFO 2019-10-20 22:15:02,155 cleverhans] Epoch 53 took 0.004999399185180664 seconds\n",
      "I1020 22:15:02.155476 20892 train.py:257] Epoch 53 took 0.004999399185180664 seconds\n",
      "[INFO 2019-10-20 22:15:02,167 cleverhans] Epoch 54 took 0.0060002803802490234 seconds\n",
      "I1020 22:15:02.167476 20892 train.py:257] Epoch 54 took 0.0060002803802490234 seconds\n",
      "[INFO 2019-10-20 22:15:02,178 cleverhans] Epoch 55 took 0.005001068115234375 seconds\n",
      "I1020 22:15:02.178475 20892 train.py:257] Epoch 55 took 0.005001068115234375 seconds\n",
      "[INFO 2019-10-20 22:15:02,189 cleverhans] Epoch 56 took 0.00600123405456543 seconds\n",
      "I1020 22:15:02.189476 20892 train.py:257] Epoch 56 took 0.00600123405456543 seconds\n",
      "[INFO 2019-10-20 22:15:02,200 cleverhans] Epoch 57 took 0.005995035171508789 seconds\n",
      "I1020 22:15:02.200476 20892 train.py:257] Epoch 57 took 0.005995035171508789 seconds\n",
      "[INFO 2019-10-20 22:15:02,212 cleverhans] Epoch 58 took 0.006027936935424805 seconds\n",
      "I1020 22:15:02.212504 20892 train.py:257] Epoch 58 took 0.006027936935424805 seconds\n",
      "[INFO 2019-10-20 22:15:02,223 cleverhans] Epoch 59 took 0.004992008209228516 seconds\n",
      "I1020 22:15:02.223475 20892 train.py:257] Epoch 59 took 0.004992008209228516 seconds\n",
      "[INFO 2019-10-20 22:15:02,235 cleverhans] Epoch 60 took 0.0059986114501953125 seconds\n",
      "I1020 22:15:02.235476 20892 train.py:257] Epoch 60 took 0.0059986114501953125 seconds\n",
      "[INFO 2019-10-20 22:15:02,246 cleverhans] Epoch 61 took 0.005999565124511719 seconds\n",
      "I1020 22:15:02.246474 20892 train.py:257] Epoch 61 took 0.005999565124511719 seconds\n",
      "[INFO 2019-10-20 22:15:02,257 cleverhans] Epoch 62 took 0.005995988845825195 seconds\n",
      "I1020 22:15:02.257476 20892 train.py:257] Epoch 62 took 0.005995988845825195 seconds\n",
      "[INFO 2019-10-20 22:15:02,269 cleverhans] Epoch 63 took 0.00596308708190918 seconds\n",
      "I1020 22:15:02.269476 20892 train.py:257] Epoch 63 took 0.00596308708190918 seconds\n",
      "[INFO 2019-10-20 22:15:02,279 cleverhans] Epoch 64 took 0.0050029754638671875 seconds\n",
      "I1020 22:15:02.279478 20892 train.py:257] Epoch 64 took 0.0050029754638671875 seconds\n",
      "[INFO 2019-10-20 22:15:02,290 cleverhans] Epoch 65 took 0.005999326705932617 seconds\n",
      "I1020 22:15:02.290475 20892 train.py:257] Epoch 65 took 0.005999326705932617 seconds\n",
      "[INFO 2019-10-20 22:15:02,301 cleverhans] Epoch 66 took 0.005040645599365234 seconds\n",
      "I1020 22:15:02.301520 20892 train.py:257] Epoch 66 took 0.005040645599365234 seconds\n",
      "[INFO 2019-10-20 22:15:02,311 cleverhans] Epoch 67 took 0.004997968673706055 seconds\n",
      "I1020 22:15:02.311477 20892 train.py:257] Epoch 67 took 0.004997968673706055 seconds\n",
      "[INFO 2019-10-20 22:15:02,323 cleverhans] Epoch 68 took 0.0059986114501953125 seconds\n",
      "I1020 22:15:02.323476 20892 train.py:257] Epoch 68 took 0.0059986114501953125 seconds\n"
     ]
    },
    {
     "name": "stdout",
     "output_type": "stream",
     "text": [
      "Test accuracy on legitimate examples: 0.9800\n",
      "Test accuracy on legitimate examples: 0.9733\n",
      "Test accuracy on legitimate examples: 0.9800\n",
      "Test accuracy on legitimate examples: 0.9667\n",
      "Test accuracy on legitimate examples: 0.9800\n",
      "Test accuracy on legitimate examples: 0.9733\n",
      "Test accuracy on legitimate examples: 0.9667\n",
      "Test accuracy on legitimate examples: 0.9733\n",
      "Test accuracy on legitimate examples: 0.9733\n",
      "Test accuracy on legitimate examples: 0.9800\n",
      "Test accuracy on legitimate examples: 0.9800\n",
      "Test accuracy on legitimate examples: 0.9733\n",
      "Test accuracy on legitimate examples: 0.9800\n",
      "Test accuracy on legitimate examples: 0.9733\n",
      "Test accuracy on legitimate examples: 0.9733\n",
      "Test accuracy on legitimate examples: 0.9733\n",
      "Test accuracy on legitimate examples: 0.9800\n"
     ]
    },
    {
     "name": "stderr",
     "output_type": "stream",
     "text": [
      "[INFO 2019-10-20 22:15:02,335 cleverhans] Epoch 69 took 0.0060002803802490234 seconds\n",
      "I1020 22:15:02.335478 20892 train.py:257] Epoch 69 took 0.0060002803802490234 seconds\n",
      "[INFO 2019-10-20 22:15:02,345 cleverhans] Epoch 70 took 0.006000995635986328 seconds\n",
      "I1020 22:15:02.345476 20892 train.py:257] Epoch 70 took 0.006000995635986328 seconds\n",
      "[INFO 2019-10-20 22:15:02,357 cleverhans] Epoch 71 took 0.005997657775878906 seconds\n",
      "I1020 22:15:02.357476 20892 train.py:257] Epoch 71 took 0.005997657775878906 seconds\n",
      "[INFO 2019-10-20 22:15:02,367 cleverhans] Epoch 72 took 0.004998922348022461 seconds\n",
      "I1020 22:15:02.367475 20892 train.py:257] Epoch 72 took 0.004998922348022461 seconds\n",
      "[INFO 2019-10-20 22:15:02,378 cleverhans] Epoch 73 took 0.006032705307006836 seconds\n",
      "I1020 22:15:02.378509 20892 train.py:257] Epoch 73 took 0.006032705307006836 seconds\n",
      "[INFO 2019-10-20 22:15:02,389 cleverhans] Epoch 74 took 0.005998373031616211 seconds\n",
      "I1020 22:15:02.389476 20892 train.py:257] Epoch 74 took 0.005998373031616211 seconds\n",
      "[INFO 2019-10-20 22:15:02,402 cleverhans] Epoch 75 took 0.0059967041015625 seconds\n",
      "I1020 22:15:02.402478 20892 train.py:257] Epoch 75 took 0.0059967041015625 seconds\n",
      "[INFO 2019-10-20 22:15:02,414 cleverhans] Epoch 76 took 0.0070018768310546875 seconds\n",
      "I1020 22:15:02.414476 20892 train.py:257] Epoch 76 took 0.0070018768310546875 seconds\n",
      "[INFO 2019-10-20 22:15:02,426 cleverhans] Epoch 77 took 0.006004810333251953 seconds\n",
      "I1020 22:15:02.426481 20892 train.py:257] Epoch 77 took 0.006004810333251953 seconds\n",
      "[INFO 2019-10-20 22:15:02,437 cleverhans] Epoch 78 took 0.006002187728881836 seconds\n",
      "I1020 22:15:02.437478 20892 train.py:257] Epoch 78 took 0.006002187728881836 seconds\n",
      "[INFO 2019-10-20 22:15:02,447 cleverhans] Epoch 79 took 0.0060002803802490234 seconds\n",
      "I1020 22:15:02.447476 20892 train.py:257] Epoch 79 took 0.0060002803802490234 seconds\n",
      "[INFO 2019-10-20 22:15:02,457 cleverhans] Epoch 80 took 0.004998683929443359 seconds\n",
      "I1020 22:15:02.457476 20892 train.py:257] Epoch 80 took 0.004998683929443359 seconds\n",
      "[INFO 2019-10-20 22:15:02,469 cleverhans] Epoch 81 took 0.0060350894927978516 seconds\n",
      "I1020 22:15:02.469512 20892 train.py:257] Epoch 81 took 0.0060350894927978516 seconds\n",
      "[INFO 2019-10-20 22:15:02,481 cleverhans] Epoch 82 took 0.006021976470947266 seconds\n",
      "I1020 22:15:02.481498 20892 train.py:257] Epoch 82 took 0.006021976470947266 seconds\n",
      "[INFO 2019-10-20 22:15:02,492 cleverhans] Epoch 83 took 0.006000518798828125 seconds\n",
      "I1020 22:15:02.492478 20892 train.py:257] Epoch 83 took 0.006000518798828125 seconds\n",
      "[INFO 2019-10-20 22:15:02,505 cleverhans] Epoch 84 took 0.007000446319580078 seconds\n",
      "I1020 22:15:02.505477 20892 train.py:257] Epoch 84 took 0.007000446319580078 seconds\n",
      "[INFO 2019-10-20 22:15:02,516 cleverhans] Epoch 85 took 0.0040435791015625 seconds\n",
      "I1020 22:15:02.516521 20892 train.py:257] Epoch 85 took 0.0040435791015625 seconds\n"
     ]
    },
    {
     "name": "stdout",
     "output_type": "stream",
     "text": [
      "Test accuracy on legitimate examples: 0.9733\n",
      "Test accuracy on legitimate examples: 0.9800\n",
      "Test accuracy on legitimate examples: 0.9733\n",
      "Test accuracy on legitimate examples: 0.9667\n",
      "Test accuracy on legitimate examples: 0.9733\n",
      "Test accuracy on legitimate examples: 0.9800\n",
      "Test accuracy on legitimate examples: 0.9733\n",
      "Test accuracy on legitimate examples: 0.9733\n",
      "Test accuracy on legitimate examples: 0.9800\n",
      "Test accuracy on legitimate examples: 0.9800\n",
      "Test accuracy on legitimate examples: 0.9733\n",
      "Test accuracy on legitimate examples: 0.9667\n",
      "Test accuracy on legitimate examples: 0.9733\n",
      "Test accuracy on legitimate examples: 0.9733\n",
      "Test accuracy on legitimate examples: 0.9800\n",
      "Test accuracy on legitimate examples: 0.9800\n"
     ]
    },
    {
     "name": "stderr",
     "output_type": "stream",
     "text": [
      "[INFO 2019-10-20 22:15:02,528 cleverhans] Epoch 86 took 0.005997657775878906 seconds\n",
      "I1020 22:15:02.528475 20892 train.py:257] Epoch 86 took 0.005997657775878906 seconds\n",
      "[INFO 2019-10-20 22:15:02,540 cleverhans] Epoch 87 took 0.0059931278228759766 seconds\n",
      "I1020 22:15:02.540475 20892 train.py:257] Epoch 87 took 0.0059931278228759766 seconds\n",
      "[INFO 2019-10-20 22:15:02,550 cleverhans] Epoch 88 took 0.004994630813598633 seconds\n",
      "I1020 22:15:02.550475 20892 train.py:257] Epoch 88 took 0.004994630813598633 seconds\n",
      "[INFO 2019-10-20 22:15:02,562 cleverhans] Epoch 89 took 0.0060007572174072266 seconds\n",
      "I1020 22:15:02.562476 20892 train.py:257] Epoch 89 took 0.0060007572174072266 seconds\n",
      "[INFO 2019-10-20 22:15:02,573 cleverhans] Epoch 90 took 0.005018949508666992 seconds\n",
      "I1020 22:15:02.573504 20892 train.py:257] Epoch 90 took 0.005018949508666992 seconds\n",
      "[INFO 2019-10-20 22:15:02,585 cleverhans] Epoch 91 took 0.0059986114501953125 seconds\n",
      "I1020 22:15:02.585477 20892 train.py:257] Epoch 91 took 0.0059986114501953125 seconds\n",
      "[INFO 2019-10-20 22:15:02,596 cleverhans] Epoch 92 took 0.005034685134887695 seconds\n",
      "I1020 22:15:02.596510 20892 train.py:257] Epoch 92 took 0.005034685134887695 seconds\n",
      "[INFO 2019-10-20 22:15:02,606 cleverhans] Epoch 93 took 0.004972696304321289 seconds\n",
      "I1020 22:15:02.606475 20892 train.py:257] Epoch 93 took 0.004972696304321289 seconds\n",
      "[INFO 2019-10-20 22:15:02,618 cleverhans] Epoch 94 took 0.005997419357299805 seconds\n",
      "I1020 22:15:02.618475 20892 train.py:257] Epoch 94 took 0.005997419357299805 seconds\n",
      "[INFO 2019-10-20 22:15:02,630 cleverhans] Epoch 95 took 0.0069997310638427734 seconds\n",
      "I1020 22:15:02.630475 20892 train.py:257] Epoch 95 took 0.0069997310638427734 seconds\n",
      "[INFO 2019-10-20 22:15:02,641 cleverhans] Epoch 96 took 0.004994630813598633 seconds\n",
      "I1020 22:15:02.641476 20892 train.py:257] Epoch 96 took 0.004994630813598633 seconds\n",
      "[INFO 2019-10-20 22:15:02,653 cleverhans] Epoch 97 took 0.006006956100463867 seconds\n",
      "I1020 22:15:02.653481 20892 train.py:257] Epoch 97 took 0.006006956100463867 seconds\n",
      "[INFO 2019-10-20 22:15:02,663 cleverhans] Epoch 98 took 0.005972862243652344 seconds\n",
      "I1020 22:15:02.663477 20892 train.py:257] Epoch 98 took 0.005972862243652344 seconds\n",
      "[INFO 2019-10-20 22:15:02,673 cleverhans] Epoch 99 took 0.004995107650756836 seconds\n",
      "I1020 22:15:02.673477 20892 train.py:257] Epoch 99 took 0.004995107650756836 seconds\n",
      "[INFO 2019-10-20 22:15:02,686 cleverhans] Epoch 100 took 0.005971193313598633 seconds\n",
      "I1020 22:15:02.686475 20892 train.py:257] Epoch 100 took 0.005971193313598633 seconds\n",
      "[INFO 2019-10-20 22:15:02,696 cleverhans] Epoch 101 took 0.005044460296630859 seconds\n",
      "I1020 22:15:02.696523 20892 train.py:257] Epoch 101 took 0.005044460296630859 seconds\n",
      "[INFO 2019-10-20 22:15:02,707 cleverhans] Epoch 102 took 0.005990028381347656 seconds\n"
     ]
    },
    {
     "name": "stdout",
     "output_type": "stream",
     "text": [
      "Test accuracy on legitimate examples: 0.9733\n",
      "Test accuracy on legitimate examples: 0.9800\n",
      "Test accuracy on legitimate examples: 0.9733\n",
      "Test accuracy on legitimate examples: 0.9800\n",
      "Test accuracy on legitimate examples: 0.9800\n",
      "Test accuracy on legitimate examples: 0.9733\n",
      "Test accuracy on legitimate examples: 0.9733\n",
      "Test accuracy on legitimate examples: 0.9667\n",
      "Test accuracy on legitimate examples: 0.9733\n",
      "Test accuracy on legitimate examples: 0.9733\n",
      "Test accuracy on legitimate examples: 0.9733\n",
      "Test accuracy on legitimate examples: 0.9733\n",
      "Test accuracy on legitimate examples: 0.9733\n",
      "Test accuracy on legitimate examples: 0.9733\n",
      "Test accuracy on legitimate examples: 0.9733\n",
      "Test accuracy on legitimate examples: 0.9733\n",
      "Test accuracy on legitimate examples: 0.9733\n"
     ]
    },
    {
     "name": "stderr",
     "output_type": "stream",
     "text": [
      "I1020 22:15:02.707476 20892 train.py:257] Epoch 102 took 0.005990028381347656 seconds\n",
      "[INFO 2019-10-20 22:15:02,719 cleverhans] Epoch 103 took 0.005000114440917969 seconds\n",
      "I1020 22:15:02.719476 20892 train.py:257] Epoch 103 took 0.005000114440917969 seconds\n",
      "[INFO 2019-10-20 22:15:02,730 cleverhans] Epoch 104 took 0.005999088287353516 seconds\n",
      "I1020 22:15:02.730474 20892 train.py:257] Epoch 104 took 0.005999088287353516 seconds\n",
      "[INFO 2019-10-20 22:15:02,741 cleverhans] Epoch 105 took 0.005013227462768555 seconds\n",
      "I1020 22:15:02.741491 20892 train.py:257] Epoch 105 took 0.005013227462768555 seconds\n",
      "[INFO 2019-10-20 22:15:02,752 cleverhans] Epoch 106 took 0.004999399185180664 seconds\n",
      "I1020 22:15:02.752476 20892 train.py:257] Epoch 106 took 0.004999399185180664 seconds\n",
      "[INFO 2019-10-20 22:15:02,762 cleverhans] Epoch 107 took 0.004999399185180664 seconds\n",
      "I1020 22:15:02.762475 20892 train.py:257] Epoch 107 took 0.004999399185180664 seconds\n",
      "[INFO 2019-10-20 22:15:02,774 cleverhans] Epoch 108 took 0.005997657775878906 seconds\n",
      "I1020 22:15:02.774475 20892 train.py:257] Epoch 108 took 0.005997657775878906 seconds\n",
      "[INFO 2019-10-20 22:15:02,785 cleverhans] Epoch 109 took 0.004972696304321289 seconds\n",
      "I1020 22:15:02.785477 20892 train.py:257] Epoch 109 took 0.004972696304321289 seconds\n",
      "[INFO 2019-10-20 22:15:02,796 cleverhans] Epoch 110 took 0.006002902984619141 seconds\n",
      "I1020 22:15:02.796478 20892 train.py:257] Epoch 110 took 0.006002902984619141 seconds\n",
      "[INFO 2019-10-20 22:15:02,807 cleverhans] Epoch 111 took 0.004998207092285156 seconds\n",
      "I1020 22:15:02.807475 20892 train.py:257] Epoch 111 took 0.004998207092285156 seconds\n",
      "[INFO 2019-10-20 22:15:02,818 cleverhans] Epoch 112 took 0.004968404769897461 seconds\n",
      "I1020 22:15:02.818476 20892 train.py:257] Epoch 112 took 0.004968404769897461 seconds\n",
      "[INFO 2019-10-20 22:15:02,830 cleverhans] Epoch 113 took 0.0060002803802490234 seconds\n",
      "I1020 22:15:02.830476 20892 train.py:257] Epoch 113 took 0.0060002803802490234 seconds\n",
      "[INFO 2019-10-20 22:15:02,841 cleverhans] Epoch 114 took 0.004998922348022461 seconds\n",
      "I1020 22:15:02.841474 20892 train.py:257] Epoch 114 took 0.004998922348022461 seconds\n",
      "[INFO 2019-10-20 22:15:02,853 cleverhans] Epoch 115 took 0.0049822330474853516 seconds\n",
      "I1020 22:15:02.853476 20892 train.py:257] Epoch 115 took 0.0049822330474853516 seconds\n",
      "[INFO 2019-10-20 22:15:02,864 cleverhans] Epoch 116 took 0.006003141403198242 seconds\n",
      "I1020 22:15:02.864479 20892 train.py:257] Epoch 116 took 0.006003141403198242 seconds\n",
      "[INFO 2019-10-20 22:15:02,875 cleverhans] Epoch 117 took 0.005997180938720703 seconds\n",
      "I1020 22:15:02.875475 20892 train.py:257] Epoch 117 took 0.005997180938720703 seconds\n",
      "[INFO 2019-10-20 22:15:02,888 cleverhans] Epoch 118 took 0.007039785385131836 seconds\n",
      "I1020 22:15:02.888514 20892 train.py:257] Epoch 118 took 0.007039785385131836 seconds\n"
     ]
    },
    {
     "name": "stdout",
     "output_type": "stream",
     "text": [
      "Test accuracy on legitimate examples: 0.9733\n",
      "Test accuracy on legitimate examples: 0.9733\n",
      "Test accuracy on legitimate examples: 0.9733\n",
      "Test accuracy on legitimate examples: 0.9733\n",
      "Test accuracy on legitimate examples: 0.9733\n",
      "Test accuracy on legitimate examples: 0.9733\n",
      "Test accuracy on legitimate examples: 0.9733\n",
      "Test accuracy on legitimate examples: 0.9733\n",
      "Test accuracy on legitimate examples: 0.9733\n",
      "Test accuracy on legitimate examples: 0.9733\n",
      "Test accuracy on legitimate examples: 0.9733\n",
      "Test accuracy on legitimate examples: 0.9733\n",
      "Test accuracy on legitimate examples: 0.9733\n",
      "Test accuracy on legitimate examples: 0.9667\n",
      "Test accuracy on legitimate examples: 0.9733\n",
      "Test accuracy on legitimate examples: 0.9733\n"
     ]
    },
    {
     "name": "stderr",
     "output_type": "stream",
     "text": [
      "[INFO 2019-10-20 22:15:02,900 cleverhans] Epoch 119 took 0.005998849868774414 seconds\n",
      "I1020 22:15:02.900477 20892 train.py:257] Epoch 119 took 0.005998849868774414 seconds\n",
      "[INFO 2019-10-20 22:15:02,910 cleverhans] Epoch 120 took 0.00500178337097168 seconds\n",
      "I1020 22:15:02.910478 20892 train.py:257] Epoch 120 took 0.00500178337097168 seconds\n",
      "[INFO 2019-10-20 22:15:02,922 cleverhans] Epoch 121 took 0.0059967041015625 seconds\n",
      "I1020 22:15:02.922475 20892 train.py:257] Epoch 121 took 0.0059967041015625 seconds\n",
      "[INFO 2019-10-20 22:15:02,934 cleverhans] Epoch 122 took 0.00600123405456543 seconds\n",
      "I1020 22:15:02.934479 20892 train.py:257] Epoch 122 took 0.00600123405456543 seconds\n",
      "[INFO 2019-10-20 22:15:02,947 cleverhans] Epoch 123 took 0.006032466888427734 seconds\n",
      "I1020 22:15:02.947476 20892 train.py:257] Epoch 123 took 0.006032466888427734 seconds\n",
      "[INFO 2019-10-20 22:15:02,959 cleverhans] Epoch 124 took 0.005999326705932617 seconds\n",
      "I1020 22:15:02.959476 20892 train.py:257] Epoch 124 took 0.005999326705932617 seconds\n",
      "[INFO 2019-10-20 22:15:02,970 cleverhans] Epoch 125 took 0.004964590072631836 seconds\n",
      "I1020 22:15:02.970476 20892 train.py:257] Epoch 125 took 0.004964590072631836 seconds\n",
      "[INFO 2019-10-20 22:15:02,981 cleverhans] Epoch 126 took 0.005997896194458008 seconds\n",
      "I1020 22:15:02.981477 20892 train.py:257] Epoch 126 took 0.005997896194458008 seconds\n",
      "[INFO 2019-10-20 22:15:02,992 cleverhans] Epoch 127 took 0.005961894989013672 seconds\n",
      "I1020 22:15:02.992475 20892 train.py:257] Epoch 127 took 0.005961894989013672 seconds\n"
     ]
    },
    {
     "name": "stdout",
     "output_type": "stream",
     "text": [
      "Test accuracy on legitimate examples: 0.9733\n",
      "Test accuracy on legitimate examples: 0.9733\n",
      "Test accuracy on legitimate examples: 0.9667\n",
      "Test accuracy on legitimate examples: 0.9733\n",
      "Test accuracy on legitimate examples: 0.9733\n",
      "Test accuracy on legitimate examples: 0.9733\n",
      "Test accuracy on legitimate examples: 0.9733\n",
      "Test accuracy on legitimate examples: 0.9733\n",
      "Test accuracy on legitimate examples: 0.9667\n",
      "Test accuracy on legitimate examples: 0.9733\n"
     ]
    },
    {
     "data": {
      "text/plain": [
       "True"
      ]
     },
     "execution_count": 22,
     "metadata": {},
     "output_type": "execute_result"
    }
   ],
   "source": [
    "train(sess, loss, x_train, y_train, evaluate=evaluate, args=train_params, rng=rng, var_list=model.get_params())"
   ]
  },
  {
   "cell_type": "code",
   "execution_count": 23,
   "metadata": {},
   "outputs": [
    {
     "name": "stderr",
     "output_type": "stream",
     "text": [
      "W1020 22:15:03.044509 20892 deprecation.py:323] From c:\\users\\august\\appdata\\local\\programs\\python\\python36\\lib\\site-packages\\cleverhans\\attacks\\__init__.py:283: to_float (from tensorflow.python.ops.math_ops) is deprecated and will be removed in a future version.\n",
      "Instructions for updating:\n",
      "Use `tf.cast` instead.\n"
     ]
    }
   ],
   "source": [
    "fgsm = FastGradientMethod(model, sess=sess)\n",
    "adv_x = fgsm.generate(x, **fgsm_params)\n",
    "preds_adv = model.get_logits(adv_x)"
   ]
  },
  {
   "cell_type": "code",
   "execution_count": null,
   "metadata": {},
   "outputs": [],
   "source": []
  },
  {
   "cell_type": "code",
   "execution_count": 24,
   "metadata": {},
   "outputs": [
    {
     "data": {
      "text/html": [
       "<div>\n",
       "<style scoped>\n",
       "    .dataframe tbody tr th:only-of-type {\n",
       "        vertical-align: middle;\n",
       "    }\n",
       "\n",
       "    .dataframe tbody tr th {\n",
       "        vertical-align: top;\n",
       "    }\n",
       "\n",
       "    .dataframe thead th {\n",
       "        text-align: right;\n",
       "    }\n",
       "</style>\n",
       "<table border=\"1\" class=\"dataframe\">\n",
       "  <thead>\n",
       "    <tr style=\"text-align: right;\">\n",
       "      <th></th>\n",
       "      <th>sepal length</th>\n",
       "      <th>sepal width</th>\n",
       "      <th>petal length</th>\n",
       "      <th>petal width</th>\n",
       "      <th>class</th>\n",
       "      <th>index</th>\n",
       "      <th>onehot</th>\n",
       "    </tr>\n",
       "  </thead>\n",
       "  <tbody>\n",
       "    <tr>\n",
       "      <th>7</th>\n",
       "      <td>5.0</td>\n",
       "      <td>3.4</td>\n",
       "      <td>1.5</td>\n",
       "      <td>0.2</td>\n",
       "      <td>Iris-setosa</td>\n",
       "      <td>0</td>\n",
       "      <td>[1.0, 0.0, 0.0]</td>\n",
       "    </tr>\n",
       "  </tbody>\n",
       "</table>\n",
       "</div>"
      ],
      "text/plain": [
       "   sepal length  sepal width  petal length  petal width        class  index  \\\n",
       "7           5.0          3.4           1.5          0.2  Iris-setosa      0   \n",
       "\n",
       "            onehot  \n",
       "7  [1.0, 0.0, 0.0]  "
      ]
     },
     "execution_count": 24,
     "metadata": {},
     "output_type": "execute_result"
    }
   ],
   "source": [
    "random_example = data.sample(1)\n",
    "random_example"
   ]
  },
  {
   "cell_type": "code",
   "execution_count": 25,
   "metadata": {},
   "outputs": [
    {
     "data": {
      "text/html": [
       "<div>\n",
       "<style scoped>\n",
       "    .dataframe tbody tr th:only-of-type {\n",
       "        vertical-align: middle;\n",
       "    }\n",
       "\n",
       "    .dataframe tbody tr th {\n",
       "        vertical-align: top;\n",
       "    }\n",
       "\n",
       "    .dataframe thead th {\n",
       "        text-align: right;\n",
       "    }\n",
       "</style>\n",
       "<table border=\"1\" class=\"dataframe\">\n",
       "  <thead>\n",
       "    <tr style=\"text-align: right;\">\n",
       "      <th></th>\n",
       "      <th>sepal length</th>\n",
       "      <th>sepal width</th>\n",
       "      <th>petal length</th>\n",
       "      <th>petal width</th>\n",
       "    </tr>\n",
       "  </thead>\n",
       "  <tbody>\n",
       "    <tr>\n",
       "      <th>7</th>\n",
       "      <td>5.0</td>\n",
       "      <td>3.4</td>\n",
       "      <td>1.5</td>\n",
       "      <td>0.2</td>\n",
       "    </tr>\n",
       "  </tbody>\n",
       "</table>\n",
       "</div>"
      ],
      "text/plain": [
       "   sepal length  sepal width  petal length  petal width\n",
       "7           5.0          3.4           1.5          0.2"
      ]
     },
     "execution_count": 25,
     "metadata": {},
     "output_type": "execute_result"
    }
   ],
   "source": [
    "example_x = random_example[['sepal length', 'sepal width', 'petal length', 'petal width']]\n",
    "example_x"
   ]
  },
  {
   "cell_type": "code",
   "execution_count": 26,
   "metadata": {},
   "outputs": [
    {
     "data": {
      "text/plain": [
       "7    [1.0, 0.0, 0.0]\n",
       "Name: onehot, dtype: object"
      ]
     },
     "execution_count": 26,
     "metadata": {},
     "output_type": "execute_result"
    }
   ],
   "source": [
    "example_y = random_example['onehot']\n",
    "example_y"
   ]
  },
  {
   "cell_type": "code",
   "execution_count": null,
   "metadata": {},
   "outputs": [],
   "source": []
  },
  {
   "cell_type": "markdown",
   "metadata": {},
   "source": [
    "First, let's run the normal model:"
   ]
  },
  {
   "cell_type": "code",
   "execution_count": 27,
   "metadata": {},
   "outputs": [
    {
     "data": {
      "text/plain": [
       "array([[  4.6078844,  -0.6497631, -12.955629 ]], dtype=float32)"
      ]
     },
     "execution_count": 27,
     "metadata": {},
     "output_type": "execute_result"
    }
   ],
   "source": [
    "sess.run(model.get_logits(x), feed_dict={x: example_x })"
   ]
  },
  {
   "cell_type": "markdown",
   "metadata": {},
   "source": [
    "and the probabilities:"
   ]
  },
  {
   "cell_type": "code",
   "execution_count": 28,
   "metadata": {},
   "outputs": [
    {
     "data": {
      "text/plain": [
       "array([[9.9481946e-01, 5.1805628e-03, 2.3442652e-08]], dtype=float32)"
      ]
     },
     "execution_count": 28,
     "metadata": {},
     "output_type": "execute_result"
    }
   ],
   "source": [
    "probs = sess.run(model.get_probs(x), feed_dict={x: example_x })\n",
    "probs"
   ]
  },
  {
   "cell_type": "code",
   "execution_count": 29,
   "metadata": {},
   "outputs": [
    {
     "data": {
      "text/plain": [
       "'Iris-setosa'"
      ]
     },
     "execution_count": 29,
     "metadata": {},
     "output_type": "execute_result"
    }
   ],
   "source": [
    "int_to_class(probs.argmax())"
   ]
  },
  {
   "cell_type": "code",
   "execution_count": null,
   "metadata": {},
   "outputs": [],
   "source": []
  },
  {
   "cell_type": "markdown",
   "metadata": {},
   "source": [
    "Now, let's see what adversarial perturbation is going to be made:"
   ]
  },
  {
   "cell_type": "code",
   "execution_count": 30,
   "metadata": {},
   "outputs": [
    {
     "data": {
      "text/plain": [
       "array([[4.01, 2.41, 2.49, 1.19]], dtype=float32)"
      ]
     },
     "execution_count": 30,
     "metadata": {},
     "output_type": "execute_result"
    }
   ],
   "source": [
    "sess.run(adv_x, feed_dict={x: example_x })"
   ]
  },
  {
   "cell_type": "markdown",
   "metadata": {},
   "source": [
    "And if we check the logits:"
   ]
  },
  {
   "cell_type": "code",
   "execution_count": 31,
   "metadata": {},
   "outputs": [
    {
     "data": {
      "text/plain": [
       "array([[-1.964462  ,  0.51600164, -3.5647297 ]], dtype=float32)"
      ]
     },
     "execution_count": 31,
     "metadata": {},
     "output_type": "execute_result"
    }
   ],
   "source": [
    "sess.run(preds_adv, feed_dict={x: example_x })"
   ]
  },
  {
   "cell_type": "markdown",
   "metadata": {},
   "source": [
    "and the output probabilities:"
   ]
  },
  {
   "cell_type": "code",
   "execution_count": 32,
   "metadata": {},
   "outputs": [
    {
     "data": {
      "text/plain": [
       "array([[0.07605346, 0.9085958 , 0.01535082]], dtype=float32)"
      ]
     },
     "execution_count": 32,
     "metadata": {},
     "output_type": "execute_result"
    }
   ],
   "source": [
    "probs = sess.run(model.get_probs(adv_x), feed_dict={x: example_x })\n",
    "probs"
   ]
  },
  {
   "cell_type": "code",
   "execution_count": 33,
   "metadata": {},
   "outputs": [
    {
     "data": {
      "text/plain": [
       "'Iris-versicolor'"
      ]
     },
     "execution_count": 33,
     "metadata": {},
     "output_type": "execute_result"
    }
   ],
   "source": [
    "int_to_class(probs.argmax())"
   ]
  },
  {
   "cell_type": "markdown",
   "metadata": {},
   "source": [
    "we can see that they were perturbed by"
   ]
  },
  {
   "cell_type": "code",
   "execution_count": null,
   "metadata": {},
   "outputs": [],
   "source": []
  },
  {
   "cell_type": "code",
   "execution_count": null,
   "metadata": {},
   "outputs": [],
   "source": []
  }
 ],
 "metadata": {
  "kernelspec": {
   "display_name": "Python 3",
   "language": "python",
   "name": "python3"
  },
  "language_info": {
   "codemirror_mode": {
    "name": "ipython",
    "version": 3
   },
   "file_extension": ".py",
   "mimetype": "text/x-python",
   "name": "python",
   "nbconvert_exporter": "python",
   "pygments_lexer": "ipython3",
   "version": "3.6.8"
  }
 },
 "nbformat": 4,
 "nbformat_minor": 2
}
